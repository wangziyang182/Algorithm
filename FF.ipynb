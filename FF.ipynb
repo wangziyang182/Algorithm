{
 "cells": [
  {
   "cell_type": "markdown",
   "metadata": {},
   "source": [
    "# Max Flow Applications\n",
    "\n",
    "The purpose of this assignment is to investigate applications of finding a Max Flow. The problem asks you to design and implement an algorithm for shipping a material between nodes with different supply and demand requirements.\n",
    "\n",
    "* Please write code *only* in the bodies of the two functions, that is, following the TODO comments.\n",
    "* Be careful not to use varibles defined outside of the functions.\n",
    "* Breaking the two above rules may lead to 0 grades."
   ]
  },
  {
   "cell_type": "markdown",
   "metadata": {},
   "source": [
    "## Movie distribution\n",
    "\n",
    "First solve Problem 2 from hw3-t. \n",
    "\n",
    "Now suppose a movie distributor would like to ship a copy of a film from CA to every other state. There are therefore 48 units to ship out of CA, and each other state receives 1 unit. \n",
    "\n",
    "The dataset contiguous-usa.dat lists the adjacent states in the US. Each line lists two adjacent states; thus AK and HI are omitted, but DC is included in the data. The following code reads in the graph of US states."
   ]
  },
  {
   "cell_type": "code",
   "execution_count": 17,
   "metadata": {},
   "outputs": [],
   "source": [
    "import networkx as nx\n",
    "G = nx.Graph()\n",
    "\n",
    "usa = open('contiguous-usa.dat')\n",
    "for line in usa:\n",
    "    s1, s2 = line.strip().split()\n",
    "    G.add_edge(s1, s2)"
   ]
  },
  {
   "cell_type": "markdown",
   "metadata": {},
   "source": [
    "We now encode the demands into the graph."
   ]
  },
  {
   "cell_type": "code",
   "execution_count": 18,
   "metadata": {},
   "outputs": [],
   "source": [
    "for state in G.nodes():\n",
    "    if state != 'CA':\n",
    "        G.node[state]['demand'] = 1\n",
    "G.node['CA']['demand'] = -48"
   ]
  },
  {
   "cell_type": "markdown",
   "metadata": {},
   "source": [
    "We will assign a uniform capacity of 16 to each edge. Since CA has only three adjacent states, this is the smallest possible uniform capacity that allows one to ship all 48 units out of CA. As we have created an undirected graph, and flows have directions, we first convert the graph to a directed graph."
   ]
  },
  {
   "cell_type": "code",
   "execution_count": 19,
   "metadata": {},
   "outputs": [],
   "source": [
    "G = nx.DiGraph(G)\n",
    "uniform_capacity = 16\n",
    "for (s1, s2) in G.edges():\n",
    "    G.edge[s1][s2]['capacity'] = uniform_capacity"
   ]
  },
  {
   "cell_type": "markdown",
   "metadata": {},
   "source": [
    "Complete the following function to implement your algorithm to find a flow with demands. Your function should work correctly for any input, not just the movie instance considered here. As always, you are encouraged to define auxiliary functions as needed for clarity."
   ]
  },
  {
   "cell_type": "code",
   "execution_count": 20,
   "metadata": {},
   "outputs": [],
   "source": [
    "def flow_with_demands(graph):\n",
    "    \"\"\"Computes a flow with demands over the given graph.\n",
    "    \n",
    "    Args:\n",
    "        graph: A directed graph with nodes annotated with 'demand' properties and edges annotated with 'capacity' \n",
    "            properties.\n",
    "        \n",
    "    Returns:\n",
    "        A dict of dicts containing the flow on each edge. For instance, flow[s1][s2] should provide the flow along\n",
    "        edge (s1, s2).\n",
    "        \n",
    "    Raises:\n",
    "        NetworkXUnfeasible: An error is thrown if there is no flow satisfying the demands.\n",
    "    \"\"\"\n",
    "    \n",
    "    demands = []\n",
    "    for node in graph.nodes():\n",
    "        demands.append(graph.node[node]['demand'])\n",
    "\n",
    "    if sum(demands) != 0:\n",
    "        raise nx.NetworkXUnfeasible(\"No Feasible Flow Satify the demand\")\n",
    "        \n",
    "    G1 = graph.copy()\n",
    "    G1.add_node('S')\n",
    "    G1.add_node('T')\n",
    "    for i in range(len(G1.node.keys())):\n",
    "        if G1.node.keys()[i] != \"S\" and G1.node.keys()[i] != \"T\":\n",
    "            if G1.node[G1.node.keys()[i]]['demand'] > 0:\n",
    "                G1.add_edge(G1.node.keys()[i],\"T\")\n",
    "                G1.edge[G1.node.keys()[i]][\"T\"]['capacity'] = G1.node[G1.node.keys()[i]]['demand']\n",
    "            elif G1.node[G1.node.keys()[i]]['demand'] < 0:\n",
    "                G1.add_edge(\"S\",G1.node.keys()[i])\n",
    "                G1.edge[\"S\"][G1.node.keys()[i]]['capacity'] = - G1.node[G1.node.keys()[i]]['demand']\n",
    "            else:\n",
    "                pass\n",
    "    \n",
    "    flow_value, flow_dict = nx.maximum_flow(G1, 'S', 'T')\n",
    "    \n",
    "    maxflow = 0\n",
    "    for (s1, s2) in G1.edges():\n",
    "        if s1 == 'S':\n",
    "            maxflow += flow_dict[s1][s2]\n",
    "            \n",
    "    demand = 0\n",
    "    for node in G1.nodes():\n",
    "        if node != 'S' and node != 'T':\n",
    "            if G1.node[node]['demand'] > 0:\n",
    "                demand += G1.node[node]['demand']\n",
    "\n",
    "    if maxflow == demand: \n",
    "        flow_dict.pop('S',None)\n",
    "        flow_dict.pop('T',None)\n",
    "        for key in flow_dict:\n",
    "            flow_dict[key].pop('S',None)\n",
    "            flow_dict[key].pop('T',None)\n",
    "    else:\n",
    "        raise nx.NetworkXUnfeasible(\"No Feasible Flow Satify the demand\")\n",
    "        \n",
    "    return flow_dict"
   ]
  },
  {
   "cell_type": "markdown",
   "metadata": {},
   "source": [
    "To verify that your solution is correct, implement a function that computes the total flow into each node (which will be negative for supply nodes)."
   ]
  },
  {
   "cell_type": "code",
   "execution_count": 21,
   "metadata": {},
   "outputs": [],
   "source": [
    "def divergence(flow):\n",
    "    \"\"\"Computes the total flow into each node according to the given flow dict.\n",
    "    \n",
    "    Args:\n",
    "        flow: the flow dict recording flow between nodes.\n",
    "        \n",
    "    Returns:\n",
    "        A dict of the net flow into each node.\n",
    "    \"\"\"\n",
    "    key = flow.keys()\n",
    "    Fin = []\n",
    "    Fout = []\n",
    "    Netflow = []\n",
    "    fout = 0\n",
    "    fin = 0\n",
    "    for i in range(len(key)):\n",
    "        for j in range(len(flow[key[i]].keys())):\n",
    "            fout = fout + flow[key[i]][flow[key[i]].keys()[j]]\n",
    "        Fout.append(fout)\n",
    "        fout = 0\n",
    "    \n",
    "    for i in range(len(key)):\n",
    "        for j in range(len(key)):\n",
    "            for k in range(len(flow[key[j]].keys())):\n",
    "                if key[i] == flow[key[j]].keys()[k]:\n",
    "                    fin = fin + flow[key[j]][flow[key[j]].keys()[k]]            \n",
    "        Fin.append(fin)\n",
    "        fin = 0\n",
    "    \n",
    "    for i in range(len(key)):\n",
    "        Netflow.append((Fin[i] - Fout[i]))\n",
    "        \n",
    "    dictionary = dict(zip(key, Netflow))\n",
    "    return dictionary"
   ]
  },
  {
   "cell_type": "markdown",
   "metadata": {},
   "source": [
    "The following code performs a sanity check on your function (but does not completely confirm correctness)."
   ]
  },
  {
   "cell_type": "code",
   "execution_count": 22,
   "metadata": {},
   "outputs": [
    {
     "name": "stdout",
     "output_type": "stream",
     "text": [
      "Flow satisfies all demands: True\n"
     ]
    }
   ],
   "source": [
    "flow = flow_with_demands(G)\n",
    "div = divergence(flow)\n",
    "print \"Flow satisfies all demands:\", all(div[n] == G.node[n]['demand'] for n in G.nodes())"
   ]
  }
 ],
 "metadata": {
  "kernelspec": {
   "display_name": "Python 2",
   "language": "python",
   "name": "python2"
  },
  "language_info": {
   "codemirror_mode": {
    "name": "ipython",
    "version": 2
   },
   "file_extension": ".py",
   "mimetype": "text/x-python",
   "name": "python",
   "nbconvert_exporter": "python",
   "pygments_lexer": "ipython2",
   "version": "2.7.15"
  }
 },
 "nbformat": 4,
 "nbformat_minor": 1
}
